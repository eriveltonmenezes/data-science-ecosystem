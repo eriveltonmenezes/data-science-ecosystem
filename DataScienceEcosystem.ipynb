{
 "cells": [
  {
   "cell_type": "markdown",
   "id": "1dbe5b3f-5f78-4207-a26d-c229497bd038",
   "metadata": {},
   "source": [
    "<center>\n",
    "   <img src=\"https://cf-courses-data.s3.us.cloud-object-storage.appdomain.cloud/IBMDeveloperSkillsNetwork-DS0105EN-SkillsNetwork/labs/Module2/images/SN_web_lightmode.png\" width=\"300\" alt=\"cognitiveclass.ai logo\">\n",
    "    </center>"
   ]
  },
  {
   "cell_type": "markdown",
   "id": "33b3bf93-6fe6-48b8-bc02-7086c9e038b9",
   "metadata": {},
   "source": [
    "# Hands-on Lab: Create your Jupyter Notebook"
   ]
  },
  {
   "cell_type": "markdown",
   "id": "b5556a3d-745a-4630-b491-c4d9dbf87458",
   "metadata": {},
   "source": [
    "# Exercise 1: Create a Jupyter Notebook"
   ]
  },
  {
   "cell_type": "markdown",
   "id": "3b546a11-eedd-40df-b307-94bc5ed40bab",
   "metadata": {},
   "source": [
    "Create a new Jupyter notebook called DataScienceEcosystem.ipynb"
   ]
  },
  {
   "cell_type": "markdown",
   "id": "6a46a425-2747-4b95-b1bf-5b6d16bac62d",
   "metadata": {},
   "source": [
    "> _Note: The next item in the course will launch JupyterLite with an empty notebook with this name that you can use to complete rest of the Exercises. You can also use any other Jupyter notebook environment (e.g. Anaconda) that you prefer to complete the assignment._"
   ]
  },
  {
   "cell_type": "markdown",
   "id": "b9c7d636-8da1-48b1-8fed-0b36bdf7df99",
   "metadata": {},
   "source": [
    "# Exercise 2: Create markdown cell with title of the notebook"
   ]
  },
  {
   "cell_type": "markdown",
   "id": "62bb632a-5e65-4bbf-9d23-5890e4877de3",
   "metadata": {},
   "source": [
    "Create a markdown cell with the title `Data Science Tools and Ecosystem` using H1 style heading."
   ]
  },
  {
   "cell_type": "markdown",
   "id": "9010863d-0d80-4579-8fea-a6f251788596",
   "metadata": {},
   "source": [
    "> _Solution:_\n",
    "# Data Science Tools and Ecosystem"
   ]
  },
  {
   "cell_type": "markdown",
   "id": "606dab6e-0909-4020-8233-e2a4c2ead660",
   "metadata": {},
   "source": [
    "# Exercise 3 - Create a markdown cell for an introduction"
   ]
  },
  {
   "cell_type": "markdown",
   "id": "bd2a815f-0504-422c-b28a-87a3efff284c",
   "metadata": {},
   "source": [
    "Write an introductory sentence about the notebook such as the follows: "
   ]
  },
  {
   "cell_type": "markdown",
   "id": "7bc03983-0a2e-4a6d-8e9c-afcd2b3132c3",
   "metadata": {},
   "source": [
    "> _Solution:_\n",
    "\n",
    "In this notebook, Data Science Tools and Ecosystem are summarized.\n",
    "\n",
    "**Objectives:**\n",
    "- List popular languages for Data Science;\n",
    "- List commonly used Data Science libraries;\n",
    "- Introduce arithmetic expression examples. "
   ]
  },
  {
   "cell_type": "markdown",
   "id": "9163b9b1-f2b6-43e9-a602-33950020f157",
   "metadata": {},
   "source": [
    "# Exercise 4 - Create a markdown cell to list data science languages"
   ]
  },
  {
   "cell_type": "markdown",
   "id": "75edf9f9-c417-42df-8887-0168a18a569c",
   "metadata": {},
   "source": [
    "Start the cell with an overview line such as: "
   ]
  },
  {
   "cell_type": "markdown",
   "id": "bb3899cb-48f4-4912-a729-022f1816a2af",
   "metadata": {},
   "source": [
    "`Some of the popular languages that Data Scientists use are:`Then create an `ordered` list (i.e. numbered) listing 3 (or more) commonly used languages for data science."
   ]
  },
  {
   "cell_type": "markdown",
   "id": "b266d417-45d1-480a-a5b6-6a598f35aabd",
   "metadata": {},
   "source": [
    "> _Solution:_\n",
    "> \n",
    "Some of the popular languages that Data Scientists use are:\n",
    "1. Python\n",
    "2. R\n",
    "3. SQL\n",
    "4. Julia"
   ]
  },
  {
   "cell_type": "markdown",
   "id": "80d5b54c-3398-4831-b067-b0a3cec28c3b",
   "metadata": {},
   "source": [
    "# Exercise 5 - Create a markdown cell to list data science libraries"
   ]
  },
  {
   "cell_type": "markdown",
   "id": "fe38edb5-d045-4ce5-9056-755375a7363a",
   "metadata": {},
   "source": [
    "Add an overview line to the cell like:"
   ]
  },
  {
   "cell_type": "markdown",
   "id": "3e650484-195d-490c-85c9-d254b66a6c92",
   "metadata": {},
   "source": [
    "`Some of the commonly used libraries used by Data Scientists include:`\n",
    "Below this line add an `ordered list` listing 3 (or more) commonly used libraries in data science."
   ]
  },
  {
   "cell_type": "markdown",
   "id": "a1e5a610-8815-4f44-aaa6-d4ed1ee65cb2",
   "metadata": {},
   "source": [
    "> _Solution:_\n",
    "\n",
    "Some of the commonly used libraries used by Data Scientists include:\n",
    "1. NumPy\n",
    "2. pandas\n",
    "3. scikit-learn\n",
    "4. Matplotlib\n",
    "5. Seaborn"
   ]
  },
  {
   "cell_type": "markdown",
   "id": "4f155de3-8b63-47cb-90f8-896bb5ebd22e",
   "metadata": {},
   "source": [
    "# Exercise 6 - Create a markdown cell with a table of Data Science tools"
   ]
  },
  {
   "cell_type": "markdown",
   "id": "c5cf3718-53d0-476d-a670-c2be0426d593",
   "metadata": {},
   "source": [
    "> _Solution:_\n",
    "\n",
    "| Ferramentas de Ciência de Dados |\n",
    "|---------------------------------|\n",
    "| Jupyter Notebooks               |\n",
    "| RStudio                         |\n",
    "| VS Code                         |"
   ]
  },
  {
   "cell_type": "markdown",
   "id": "d1e06701-a340-42b0-a9de-2bbfff529770",
   "metadata": {},
   "source": [
    "# Exercise 7 - Create a markdown cell introducing arithmetic expression examples"
   ]
  },
  {
   "cell_type": "markdown",
   "id": "e61e3009-9f0a-444d-87f0-77ef83686216",
   "metadata": {},
   "source": [
    "Add a line in this cell with H3 style heading with text like:\n",
    "\n",
    "`Below are a few examples of evaluating arithmetic expressions in Python.`"
   ]
  },
  {
   "cell_type": "markdown",
   "id": "44f630d6-cec2-408d-a270-8ffa7394f211",
   "metadata": {},
   "source": [
    "> _Solution:_\n",
    "\n",
    "### Below are a few examples of evaluting arithmetic expressions in Python."
   ]
  },
  {
   "cell_type": "markdown",
   "id": "54ec8fe1-a03d-4496-ab23-fb6a7e747ab5",
   "metadata": {},
   "source": [
    "# Exercise 8 - Create a code cell to multiply and add numbers"
   ]
  },
  {
   "cell_type": "markdown",
   "id": "ef12dbc1-edad-4cbd-9021-326e0b453ea2",
   "metadata": {},
   "source": [
    "In this code cell evaluate the expression `(3*4)+5`.\n",
    "Insert a comment line before the expression to explain the operation e.g. `This a simple arithmetic expression to mutiply then add integers`.\n",
    "Then execute the cell to ensure the expression returns the expected output of `17`."
   ]
  },
  {
   "cell_type": "markdown",
   "id": "4ffa527e-7e80-48d0-9224-58a911f6bdf9",
   "metadata": {},
   "source": [
    "> _Solution:_\n",
    "\n",
    "# This is a simple arithmetic expression to multiply and add integers."
   ]
  },
  {
   "cell_type": "code",
   "execution_count": 6,
   "id": "955e4f05-b85d-4d82-a046-0f694e2f58e7",
   "metadata": {},
   "outputs": [
    {
     "data": {
      "text/plain": [
       "17"
      ]
     },
     "execution_count": 6,
     "metadata": {},
     "output_type": "execute_result"
    }
   ],
   "source": [
    "(3*4)+5"
   ]
  },
  {
   "cell_type": "markdown",
   "id": "8ca66d47-4e10-42be-ba4c-bd7c8798955c",
   "metadata": {},
   "source": [
    "# Exercise 9 - Create a code cell to convert minutes to hours"
   ]
  },
  {
   "cell_type": "markdown",
   "id": "c72c7410-36aa-44e3-80f3-a06b0347b921",
   "metadata": {},
   "source": [
    "In this code cell write an expression that converts `200 minutes` into `hours`.\n",
    "Insert a comment line before the expression to explain the operation e.g. `This will convert 200 minutes to hours by diving by 60`.\n",
    "Run the cell to evaluate the expression."
   ]
  },
  {
   "cell_type": "markdown",
   "id": "96133891-0de9-481a-b7a3-dbc476961796",
   "metadata": {},
   "source": [
    "> _Solution:_"
   ]
  },
  {
   "cell_type": "code",
   "execution_count": 10,
   "id": "8dbaf716-91ed-49ef-8965-7bb88bd46f5d",
   "metadata": {},
   "outputs": [
    {
     "name": "stdout",
     "output_type": "stream",
     "text": [
      "3.3333333333333335\n"
     ]
    }
   ],
   "source": [
    "# This will convert 200 minutes to hours by dividing them by 60.\n",
    "print (200 / 60)"
   ]
  },
  {
   "cell_type": "markdown",
   "id": "44d72c5b-e517-470e-928e-22afd77c6030",
   "metadata": {},
   "source": [
    "# Exercise 10 - Insert a markdown cell to list Objectives"
   ]
  },
  {
   "cell_type": "markdown",
   "id": "c1d1803f-dc41-4e6f-849a-9677568e1dd7",
   "metadata": {},
   "source": [
    "Below the introduction cell created in Exercise 3, insert a new markdown cell to list the objectives that this notebook covered (i.e. some of the key takeaways from the course). In this new cell start with an introductory line titled: `Objectives:` in bold font. Then using an `unordered list` (bullets) indicate 3 to 5 items covered in this notebook, such as `List popular languages for Data Science`."
   ]
  },
  {
   "cell_type": "markdown",
   "id": "ec45fe46-dc12-4bb0-9b27-477d8a2a7664",
   "metadata": {},
   "source": [
    "> _Solution:_\n",
    "\n",
    "Inserted cell with objectives in **Exercise 3:**\n",
    "\n",
    "**Objectives:**\n",
    "\n",
    "- List popular languages for Data Science;\n",
    "- List commonly used Data Science libraries;\n",
    "- Introduce arithmetic expression examples."
   ]
  },
  {
   "cell_type": "markdown",
   "id": "5c0301ef-6fd9-40e6-a02f-53c26071269d",
   "metadata": {},
   "source": [
    "# Exercise 11 - Create a markdown cell to indicate the Author's name"
   ]
  },
  {
   "cell_type": "markdown",
   "id": "cf534ce2-7705-4d94-bd91-121a995e0278",
   "metadata": {},
   "source": [
    "In this markdown cell markdown cell include the following text `Author` in `H2 style heading`. Include your `name` as regular text below the word `Author`."
   ]
  },
  {
   "cell_type": "markdown",
   "id": "b1efc515-ca35-4077-b068-b544f1c86c07",
   "metadata": {},
   "source": [
    "> _Solution:_"
   ]
  },
  {
   "cell_type": "markdown",
   "id": "9ff23d68-b89c-4e40-8218-dddd1c6450da",
   "metadata": {},
   "source": [
    "## Author"
   ]
  },
  {
   "cell_type": "markdown",
   "id": "1e5f9944-9f7c-471a-8e22-f5a4591cfa41",
   "metadata": {},
   "source": [
    "Erivelton Pinheiro de Menezes"
   ]
  },
  {
   "cell_type": "markdown",
   "id": "13b97239-7e10-47e7-a586-500c999abad3",
   "metadata": {},
   "source": [
    "# Exercise 12 - Share your notebook through GitHub"
   ]
  },
  {
   "cell_type": "markdown",
   "id": "87427a4b-ef56-4074-95f5-3709b18b85c4",
   "metadata": {},
   "source": [
    "Upload your notebook to a public respository on GitHub."
   ]
  },
  {
   "cell_type": "markdown",
   "id": "dd6f9eae-33e8-4fbc-915e-f70aabdf81c2",
   "metadata": {},
   "source": [
    "> _Note : Please keep the GitHub repo link of the notebook handy.\n",
    "You will need to submit this link as a part of the assignment evaluation._"
   ]
  },
  {
   "cell_type": "markdown",
   "id": "cc52e0f5-325c-4071-a8de-22c15e46f5c9",
   "metadata": {},
   "source": [
    "_Hint: Refer to **Lab: Working with files in Jupyter Notebooks** to download the notebook from **SN Labs.**_"
   ]
  },
  {
   "cell_type": "markdown",
   "id": "c374ec65-ced5-4296-976b-b6145bfe5e8d",
   "metadata": {},
   "source": [
    "# Exercise 13 -Take a screenshot of the first page of the notebook and save it as `1-notebook.png`"
   ]
  },
  {
   "cell_type": "markdown",
   "id": "e24f0104-c9ab-4766-82e0-64be5b00237b",
   "metadata": {},
   "source": [
    "_Refer to **Hands-on Lab: Getting Started with GitHub** to upload the downloaded notebook to **GitHub.**_"
   ]
  },
  {
   "cell_type": "markdown",
   "id": "668108aa-4301-4f05-b27e-dc877d6d7eb8",
   "metadata": {},
   "source": [
    "Congratulations on completing this project. In a subsequent item in the course you will submit a link to your notebook on GitHub and evaluate your peers."
   ]
  },
  {
   "cell_type": "code",
   "execution_count": null,
   "id": "53d64051-30bc-4737-8dce-fa32a24765e9",
   "metadata": {},
   "outputs": [],
   "source": []
  }
 ],
 "metadata": {
  "kernelspec": {
   "display_name": "Python 3 (ipykernel)",
   "language": "python",
   "name": "python3"
  },
  "language_info": {
   "codemirror_mode": {
    "name": "ipython",
    "version": 3
   },
   "file_extension": ".py",
   "mimetype": "text/x-python",
   "name": "python",
   "nbconvert_exporter": "python",
   "pygments_lexer": "ipython3",
   "version": "3.13.3"
  }
 },
 "nbformat": 4,
 "nbformat_minor": 5
}
